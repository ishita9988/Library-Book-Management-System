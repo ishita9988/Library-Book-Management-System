{
 "cells": [
  {
   "cell_type": "code",
   "execution_count": 1,
   "id": "a9b1ef04",
   "metadata": {},
   "outputs": [],
   "source": [
    "# LIBRARY MANAGEMENT SYSTEM PROJECT\n",
    "from tkinter import*\n",
    "import sqlite3\n",
    "import tkinter.ttk as ttk\n",
    "import tkinter.messagebox as tkMessageBox"
   ]
  },
  {
   "cell_type": "code",
   "execution_count": 2,
   "id": "5fed9a16",
   "metadata": {},
   "outputs": [
    {
     "data": {
      "text/plain": [
       "''"
      ]
     },
     "execution_count": 2,
     "metadata": {},
     "output_type": "execute_result"
    }
   ],
   "source": [
    "root=Tk()\n",
    "root.title('.....Library Management Application.....')"
   ]
  },
  {
   "cell_type": "code",
   "execution_count": 3,
   "id": "b6fae661",
   "metadata": {},
   "outputs": [],
   "source": [
    "def Database():\n",
    "    global conn, cursor\n",
    "    conn=sqlite3.connect('simple_db')\n",
    "    cursor=conn.cursor()\n",
    "    cursor.execute(\"CREATE TABLE IF NOT EXISTS library(Booktitle TEXT, Author TEXT, Year TEXT, ISBN TEXT)\")\n",
    "def Add():\n",
    "    if Booktitle.get()==\"\" or Author.get()==\"\" or Year.get()==\"\" or ISBN.get()==\"\":\n",
    "        txt_result.config(text='Please enter all the fields',fg=\"red\")\n",
    "    else:\n",
    "        Database()\n",
    "        cursor.execute(\"Insert INTO library(Booktitle, Author, Year, ISBN) VALUES(?,?,?,?)\",(str(Booktitle.get()),str(Author.get()),str(Year.get()),str(ISBN.get())))\n",
    "        conn.commit()\n",
    "        Booktitle.set(\"\")\n",
    "        Author.set(\"\")\n",
    "        Year.set(\"\")\n",
    "        ISBN.set(\"\")\n",
    "        cursor.close()\n",
    "        conn.close()\n",
    "        txt_result.config(text=\"Record Inserted!\",fg=\"green\")\n",
    "def Display():\n",
    "    tree.delete(*tree.get_children())\n",
    "    Database()\n",
    "    cursor.execute(\"SELECT * FROM library\")\n",
    "    fetch=cursor.fetchall()\n",
    "    for data in fetch:\n",
    "        tree.insert('','end',values=(data[0],data[1],data[2],data[3]))\n",
    "    cursor.close()\n",
    "    conn.close()\n",
    "    txt_result.config(text='successfully fetched data!',fg=\"black\")\n",
    "def Search():\n",
    "    if Booktitle.get()==\"\" and Author.get()==\"\" and Year.get()==\"\" and ISBN.get()==\"\":\n",
    "           txt_result.config(text=\"Please enter any of the field on which you want to search!\",fg=\"red\")\n",
    "    else:\n",
    "        Database()\n",
    "        cursor.execute(\"SELECT * FROM library where ISBN=? or Author=? or Booktitle=? or Year=?\",(ISBN.get(),Author.get(),Booktitle.get(),Year.get()))\n",
    "        rows=cursor.fetchall()\n",
    "        if len(rows)!=0:\n",
    "            tree.delete(*tree.get_children())\n",
    "            for data in rows:\n",
    "                tree.insert('','end',values=(data[0],data[1],data[2],data[3]))\n",
    "            conn.commit()\n",
    "            Reset()\n",
    "            txt_result.config(text='data is present',fg=\"black\")\n",
    "        else:\n",
    "            tkMessageBox.showwarning (\"Please enter correct data\")\n",
    "    conn.close()\n",
    "def Get_cursor(event):\n",
    "    cursor_rows=tree.focus()\n",
    "    content=tree.item(cursor_rows)\n",
    "    row=content['values']\n",
    "    Booktitle.set(row[0]),\n",
    "    Author.set(row[1]),\n",
    "    Year.set(row[2]),\n",
    "    ISBN.set(row[3])\n",
    "def Update():\n",
    "    Database()\n",
    "    cursor.execute(\"UPDATE library set Booktitle=?, Author=?, Year=? where ISBN=?\",(Booktitle.get(),Author.get(),Year.get(),ISBN.get()))\n",
    "    conn.commit()\n",
    "    Display()\n",
    "    Reset()\n",
    "    conn.close()\n",
    "    txt_result.config(text='successfully updated data!',fg=\"black\")"
   ]
  },
  {
   "cell_type": "code",
   "execution_count": 4,
   "id": "4e24ef0c",
   "metadata": {},
   "outputs": [],
   "source": [
    "def Issue():\n",
    "    if Booktitle.get()==\"\":\n",
    "        txt_result.config(text='Please enter the book title',fg=\"red\")\n",
    "    else:\n",
    "        Database()\n",
    "        cursor.execute(\"SELECT * FROM library where Booktitle=?\",(Booktitle.get(),))\n",
    "        rows=cursor.fetchall()\n",
    "        if len(rows)!=0:\n",
    "            tree.delete(*tree.get_children())\n",
    "            for data in rows:\n",
    "                tree.insert('','end',values=(data[0],data[1],data[2],data[3]))\n",
    "            conn.commit()\n",
    "            Reset()\n",
    "            txt_result.config(text='book is issued successfully',fg=\"black\")\n",
    "        else:\n",
    "             tkMessageBox.showwarning (\"the book is not in our library\")\n",
    "    conn.close() \n",
    "def Delete():\n",
    "    Database()\n",
    "    result=tkMessageBox.askquestion('Do you want to delete?(y/n)',icon='warning')\n",
    "    if result=='yes':\n",
    "        cursor.execute('DELETE FROM library where ISBN=?',(ISBN.get(),))\n",
    "        conn.commit()\n",
    "        Display()\n",
    "        Reset()\n",
    "    conn.close()\n",
    "def Exit():\n",
    "    result=tkMessageBox.askquestion('Do you want to exit?(y/n)',icon='warning')\n",
    "    if result=='yes':\n",
    "        root.destroy()\n",
    "        exit()\n",
    "def Reset():\n",
    "    Booktitle.set(\"\")\n",
    "    Author.set(\"\")\n",
    "    Year.set(\"\")\n",
    "    ISBN.set(\"\")"
   ]
  },
  {
   "cell_type": "code",
   "execution_count": 5,
   "id": "498545d5",
   "metadata": {},
   "outputs": [],
   "source": [
    "# variable declaration\n",
    "Booktitle=StringVar()\n",
    "Author=StringVar()\n",
    "Year=StringVar()\n",
    "ISBN=StringVar()"
   ]
  },
  {
   "cell_type": "code",
   "execution_count": 6,
   "id": "be24bee2",
   "metadata": {},
   "outputs": [],
   "source": [
    "#Frames\n",
    "Top=Frame(root,width=900,height=50,bd=8,relief='raise',bg='Blue')\n",
    "Top.pack(side=TOP)\n",
    "Left=Frame(root,width=600,height=500,bd=8,relief='raise',bg='Red')\n",
    "Left.pack(side=LEFT)\n",
    "Right=Frame(root,width=600,height=500,bd=8,relief='raise',bg='Yellow')\n",
    "Right.pack(side=RIGHT)\n",
    "\n",
    "Forms=Frame(Left,width=500,height=450)\n",
    "Forms.pack(side=TOP)\n",
    "\n",
    "Buttons=Frame(Left,width=300,height=100,bd=8,relief='raise',bg='Grey')\n",
    "Buttons.pack(side=BOTTOM)\n",
    "\n"
   ]
  },
  {
   "cell_type": "code",
   "execution_count": 7,
   "id": "f1bcad30",
   "metadata": {},
   "outputs": [],
   "source": [
    "#Labels\n",
    "txt_title=Label(Top, width=900 ,font=('arial',24),text='.....Library Management Application.....')\n",
    "txt_title.pack()\n",
    "txt_booktitle=Label(Forms,text=\"Booktitle:\",font=('arial',16),bd=15)\n",
    "txt_booktitle.grid(row=0,stick=\"e\")\n",
    "\n",
    "txt_author=Label(Forms,text=\"Author:\",font=('arial',16),bd=15)\n",
    "txt_author.grid(row=1,stick=\"e\")\n",
    "txt_year=Label(Forms,text=\"Year:\",font=('arial',16),bd=15)\n",
    "txt_year.grid(row=2,stick=\"e\")\n",
    "txt_isbn=Label(Forms,text=\"ISBN:\",font=('arial',16),bd=15)\n",
    "txt_isbn.grid(row=3,stick=\"e\")\n",
    "txt_result=Label(Buttons)\n",
    "txt_result.pack(side=TOP)"
   ]
  },
  {
   "cell_type": "code",
   "execution_count": 8,
   "id": "97d2c63f",
   "metadata": {},
   "outputs": [],
   "source": [
    "#Entry widget\n",
    "booktitle=Entry(Forms,textvariable=Booktitle,width=30)\n",
    "booktitle.grid(row=0,column=1)\n",
    "author=Entry(Forms,textvariable=Author,width=30)\n",
    "author.grid(row=1,column=1)\n",
    "year=Entry(Forms,textvariable=Year,width=30)\n",
    "year.grid(row=2,column=1)\n",
    "isbn=Entry(Forms,textvariable=ISBN,width=30)\n",
    "isbn.grid(row=3,column=1)"
   ]
  },
  {
   "cell_type": "code",
   "execution_count": 9,
   "id": "1bfefa39",
   "metadata": {},
   "outputs": [],
   "source": [
    "#button widget\n",
    "btn_display=Button(Buttons ,width=10,text=\"Display\",command=Display)\n",
    "btn_display.pack(side=LEFT)\n",
    "btn_search=Button(Buttons ,width=10,text=\"Search\",command=Search)\n",
    "btn_search.pack(side=LEFT)\n",
    "btn_add=Button(Buttons ,width=10,text=\"Add\",command=Add)\n",
    "btn_add.pack(side=LEFT)\n",
    "btn_update=Button(Buttons ,width=10,text=\"Update\",command=Update)\n",
    "btn_update.pack(side=LEFT)\n",
    "btn_issue=Button(Buttons ,width=10,text=\"Issue\",command=Issue)\n",
    "btn_issue.pack(side=LEFT)\n",
    "btn_delete=Button(Buttons ,width=10,text=\"Delete\",command=Delete)\n",
    "btn_delete.pack(side=LEFT)\n",
    "btn_exit=Button(Buttons ,width=10,text=\"Exit\",command=Exit)\n",
    "btn_exit.pack(side=LEFT)"
   ]
  },
  {
   "cell_type": "code",
   "execution_count": 10,
   "id": "6afb3606",
   "metadata": {},
   "outputs": [],
   "source": [
    "#treeview\n",
    "scrollbary=Scrollbar(Right,orient=VERTICAL)\n",
    "scrollbarx=Scrollbar(Right,orient=HORIZONTAL)\n",
    "\n",
    "tree=ttk.Treeview(Right, columns=(\"Booktitle\",\"Author\",\"Year\",\"ISBN\"))\n",
    "\n",
    "scrollbary.config(command=tree.yview)\n",
    "scrollbary.pack(side=RIGHT,fill=Y)\n",
    "scrollbarx.config(command=tree.xview)\n",
    "scrollbarx.pack(side=BOTTOM,fill=X)\n",
    "tree.column('#0',stretch=NO, minwidth=0,width=0)\n",
    "tree.column('#1',stretch=NO, minwidth=0,width=150)\n",
    "tree.column('#2',stretch=NO, minwidth=0,width=150)\n",
    "tree.column('#3',stretch=NO, minwidth=0,width=120)\n",
    "tree.heading('Booktitle',text=\"Booktitle\",anchor=W)\n",
    "tree.heading('Author',text=\"Author\",anchor=W)\n",
    "tree.heading('Year',text=\"Year\",anchor=W)\n",
    "tree.heading('ISBN',text=\"ISBN\",anchor=W)\n",
    "tree.bind(\"<ButtonRelease-1>\",Get_cursor)\n",
    "tree.pack()"
   ]
  },
  {
   "cell_type": "code",
   "execution_count": 11,
   "id": "0d371e8e",
   "metadata": {},
   "outputs": [],
   "source": [
    "if __name__== '__main__':\n",
    "    root.mainloop()"
   ]
  },
  {
   "cell_type": "code",
   "execution_count": null,
   "id": "1b2eef5f",
   "metadata": {},
   "outputs": [],
   "source": []
  }
 ],
 "metadata": {
  "kernelspec": {
   "display_name": "Python 3 (ipykernel)",
   "language": "python",
   "name": "python3"
  },
  "language_info": {
   "codemirror_mode": {
    "name": "ipython",
    "version": 3
   },
   "file_extension": ".py",
   "mimetype": "text/x-python",
   "name": "python",
   "nbconvert_exporter": "python",
   "pygments_lexer": "ipython3",
   "version": "3.9.12"
  }
 },
 "nbformat": 4,
 "nbformat_minor": 5
}
